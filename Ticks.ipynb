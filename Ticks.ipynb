{
 "cells": [
  {
   "cell_type": "code",
   "execution_count": 1,
   "metadata": {},
   "outputs": [
    {
     "name": "stdout",
     "output_type": "stream",
     "text": [
      "-81.0\n",
      "[{'tradable': True, 'mode': 'full', 'instrument_token': 55735815, 'last_price': 43485.0, 'last_quantity': 1, 'average_price': 43478.57, 'volume': 32125, 'buy_quantity': 1640, 'sell_quantity': 1515, 'ohlc': {'open': 43333.0, 'high': 43718.0, 'low': 43255.0, 'close': 43433.0}, 'change': 0.11972463334331039, 'last_trade_time': datetime.datetime(2020, 3, 4, 21, 56, 52), 'oi': 11735, 'oi_day_high': 11913, 'oi_day_low': 10191, 'timestamp': datetime.datetime(2020, 3, 4, 21, 56, 59), 'depth': {'buy': [{'quantity': 1, 'price': 43486.0, 'orders': 1}, {'quantity': 2, 'price': 43485.0, 'orders': 2}, {'quantity': 1, 'price': 43484.0, 'orders': 1}, {'quantity': 1, 'price': 43483.0, 'orders': 1}, {'quantity': 1, 'price': 43482.0, 'orders': 1}], 'sell': [{'quantity': 2, 'price': 43493.0, 'orders': 2}, {'quantity': 5, 'price': 43494.0, 'orders': 3}, {'quantity': 1, 'price': 43495.0, 'orders': 1}, {'quantity': 1, 'price': 43496.0, 'orders': 1}, {'quantity': 2, 'price': 43497.0, 'orders': 2}]}}, {'tradable': True, 'mode': 'full', 'instrument_token': 55678727, 'last_price': 43428.0, 'last_quantity': 1, 'average_price': 43208.01, 'volume': 89, 'buy_quantity': 33, 'sell_quantity': 55, 'ohlc': {'open': 43100.0, 'high': 43649.0, 'low': 43006.0, 'close': 43100.0}, 'change': 0.7610208816705336, 'last_trade_time': datetime.datetime(2020, 3, 4, 20, 11, 56), 'oi': 136, 'oi_day_high': 140, 'oi_day_low': 101, 'timestamp': datetime.datetime(2020, 3, 4, 21, 57), 'depth': {'buy': [{'quantity': 1, 'price': 43151.0, 'orders': 1}, {'quantity': 1, 'price': 43137.0, 'orders': 1}, {'quantity': 1, 'price': 42544.0, 'orders': 1}, {'quantity': 1, 'price': 42536.0, 'orders': 1}, {'quantity': 4, 'price': 42400.0, 'orders': 1}], 'sell': [{'quantity': 4, 'price': 43567.0, 'orders': 1}, {'quantity': 1, 'price': 43569.0, 'orders': 1}, {'quantity': 1, 'price': 43595.0, 'orders': 1}, {'quantity': 4, 'price': 43798.0, 'orders': 1}, {'quantity': 1, 'price': 43955.0, 'orders': 1}]}}]\n",
      "-82.0\n",
      "[{'tradable': True, 'mode': 'full', 'instrument_token': 55735815, 'last_price': 43485.0, 'last_quantity': 1, 'average_price': 43478.57, 'volume': 32125, 'buy_quantity': 1638, 'sell_quantity': 1515, 'ohlc': {'open': 43333.0, 'high': 43718.0, 'low': 43255.0, 'close': 43433.0}, 'change': 0.11972463334331039, 'last_trade_time': datetime.datetime(2020, 3, 4, 21, 56, 52), 'oi': 11735, 'oi_day_high': 11913, 'oi_day_low': 10191, 'timestamp': datetime.datetime(2020, 3, 4, 21, 57), 'depth': {'buy': [{'quantity': 1, 'price': 43485.0, 'orders': 1}, {'quantity': 1, 'price': 43484.0, 'orders': 1}, {'quantity': 1, 'price': 43483.0, 'orders': 1}, {'quantity': 1, 'price': 43482.0, 'orders': 1}, {'quantity': 3, 'price': 43481.0, 'orders': 3}], 'sell': [{'quantity': 2, 'price': 43493.0, 'orders': 2}, {'quantity': 5, 'price': 43494.0, 'orders': 3}, {'quantity': 1, 'price': 43495.0, 'orders': 1}, {'quantity': 1, 'price': 43496.0, 'orders': 1}, {'quantity': 2, 'price': 43497.0, 'orders': 2}]}}, {'tradable': True, 'mode': 'full', 'instrument_token': 55678727, 'last_price': 43428.0, 'last_quantity': 1, 'average_price': 43208.01, 'volume': 89, 'buy_quantity': 33, 'sell_quantity': 55, 'ohlc': {'open': 43100.0, 'high': 43649.0, 'low': 43006.0, 'close': 43100.0}, 'change': 0.7610208816705336, 'last_trade_time': datetime.datetime(2020, 3, 4, 20, 11, 56), 'oi': 136, 'oi_day_high': 140, 'oi_day_low': 101, 'timestamp': datetime.datetime(2020, 3, 4, 21, 57), 'depth': {'buy': [{'quantity': 1, 'price': 43150.0, 'orders': 1}, {'quantity': 1, 'price': 43136.0, 'orders': 1}, {'quantity': 1, 'price': 42544.0, 'orders': 1}, {'quantity': 1, 'price': 42536.0, 'orders': 1}, {'quantity': 4, 'price': 42400.0, 'orders': 1}], 'sell': [{'quantity': 4, 'price': 43567.0, 'orders': 1}, {'quantity': 1, 'price': 43569.0, 'orders': 1}, {'quantity': 1, 'price': 43595.0, 'orders': 1}, {'quantity': 4, 'price': 43798.0, 'orders': 1}, {'quantity': 1, 'price': 43955.0, 'orders': 1}]}}]\n",
      "-81.0\n",
      "[{'tradable': True, 'mode': 'full', 'instrument_token': 55735815, 'last_price': 43485.0, 'last_quantity': 1, 'average_price': 43478.57, 'volume': 32125, 'buy_quantity': 1642, 'sell_quantity': 1515, 'ohlc': {'open': 43333.0, 'high': 43718.0, 'low': 43255.0, 'close': 43433.0}, 'change': 0.11972463334331039, 'last_trade_time': datetime.datetime(2020, 3, 4, 21, 56, 52), 'oi': 11735, 'oi_day_high': 11913, 'oi_day_low': 10191, 'timestamp': datetime.datetime(2020, 3, 4, 21, 57, 1), 'depth': {'buy': [{'quantity': 3, 'price': 43486.0, 'orders': 3}, {'quantity': 12, 'price': 43485.0, 'orders': 3}, {'quantity': 1, 'price': 43484.0, 'orders': 1}, {'quantity': 1, 'price': 43483.0, 'orders': 1}, {'quantity': 1, 'price': 43482.0, 'orders': 1}], 'sell': [{'quantity': 2, 'price': 43493.0, 'orders': 2}, {'quantity': 2, 'price': 43494.0, 'orders': 2}, {'quantity': 2, 'price': 43495.0, 'orders': 2}, {'quantity': 6, 'price': 43496.0, 'orders': 4}, {'quantity': 1, 'price': 43497.0, 'orders': 1}]}}, {'tradable': True, 'mode': 'full', 'instrument_token': 55678727, 'last_price': 43428.0, 'last_quantity': 1, 'average_price': 43208.01, 'volume': 89, 'buy_quantity': 33, 'sell_quantity': 55, 'ohlc': {'open': 43100.0, 'high': 43649.0, 'low': 43006.0, 'close': 43100.0}, 'change': 0.7610208816705336, 'last_trade_time': datetime.datetime(2020, 3, 4, 20, 11, 56), 'oi': 136, 'oi_day_high': 140, 'oi_day_low': 101, 'timestamp': datetime.datetime(2020, 3, 4, 21, 57), 'depth': {'buy': [{'quantity': 1, 'price': 43150.0, 'orders': 1}, {'quantity': 1, 'price': 43136.0, 'orders': 1}, {'quantity': 1, 'price': 42544.0, 'orders': 1}, {'quantity': 1, 'price': 42536.0, 'orders': 1}, {'quantity': 4, 'price': 42400.0, 'orders': 1}], 'sell': [{'quantity': 4, 'price': 43567.0, 'orders': 1}, {'quantity': 1, 'price': 43569.0, 'orders': 1}, {'quantity': 1, 'price': 43595.0, 'orders': 1}, {'quantity': 4, 'price': 43798.0, 'orders': 1}, {'quantity': 1, 'price': 43955.0, 'orders': 1}]}}]\n"
     ]
    },
    {
     "name": "stderr",
     "output_type": "stream",
     "text": [
      "Unhandled Error\n",
      "Traceback (most recent call last):\n",
      "  File \"/Users/vipultanwar/Documents/kite/kite/lib/python3.8/site-packages/twisted/python/log.py\", line 103, in callWithLogger\n",
      "    return callWithContext({\"system\": lp}, func, *args, **kw)\n",
      "  File \"/Users/vipultanwar/Documents/kite/kite/lib/python3.8/site-packages/twisted/python/log.py\", line 86, in callWithContext\n",
      "    return context.call({ILogContext: newCtx}, func, *args, **kw)\n",
      "  File \"/Users/vipultanwar/Documents/kite/kite/lib/python3.8/site-packages/twisted/python/context.py\", line 122, in callWithContext\n",
      "    return self.currentContext().callWithContext(ctx, func, *args, **kw)\n",
      "  File \"/Users/vipultanwar/Documents/kite/kite/lib/python3.8/site-packages/twisted/python/context.py\", line 85, in callWithContext\n",
      "    return func(*args,**kw)\n",
      "--- <exception caught here> ---\n",
      "  File \"/Users/vipultanwar/Documents/kite/kite/lib/python3.8/site-packages/twisted/internet/selectreactor.py\", line 149, in _doReadOrWrite\n",
      "    why = getattr(selectable, method)()\n",
      "  File \"/Users/vipultanwar/Documents/kite/kite/lib/python3.8/site-packages/twisted/internet/tcp.py\", line 243, in doRead\n",
      "    return self._dataReceived(data)\n",
      "  File \"/Users/vipultanwar/Documents/kite/kite/lib/python3.8/site-packages/twisted/internet/tcp.py\", line 249, in _dataReceived\n",
      "    rval = self.protocol.dataReceived(data)\n",
      "  File \"/Users/vipultanwar/Documents/kite/kite/lib/python3.8/site-packages/twisted/protocols/tls.py\", line 330, in dataReceived\n",
      "    self._flushReceiveBIO()\n",
      "  File \"/Users/vipultanwar/Documents/kite/kite/lib/python3.8/site-packages/twisted/protocols/tls.py\", line 295, in _flushReceiveBIO\n",
      "    ProtocolWrapper.dataReceived(self, bytes)\n",
      "  File \"/Users/vipultanwar/Documents/kite/kite/lib/python3.8/site-packages/twisted/protocols/policies.py\", line 120, in dataReceived\n",
      "    self.wrappedProtocol.dataReceived(data)\n",
      "  File \"/Users/vipultanwar/Documents/kite/kite/lib/python3.8/site-packages/autobahn/twisted/websocket.py\", line 288, in dataReceived\n",
      "    self._dataReceived(data)\n",
      "  File \"/Users/vipultanwar/Documents/kite/kite/lib/python3.8/site-packages/autobahn/websocket/protocol.py\", line 1206, in _dataReceived\n",
      "    self.consumeData()\n",
      "  File \"/Users/vipultanwar/Documents/kite/kite/lib/python3.8/site-packages/autobahn/websocket/protocol.py\", line 1218, in consumeData\n",
      "    while self.processData() and self.state != WebSocketProtocol.STATE_CLOSED:\n",
      "  File \"/Users/vipultanwar/Documents/kite/kite/lib/python3.8/site-packages/autobahn/websocket/protocol.py\", line 1578, in processData\n",
      "    fr = self.onFrameEnd()\n",
      "  File \"/Users/vipultanwar/Documents/kite/kite/lib/python3.8/site-packages/autobahn/websocket/protocol.py\", line 1700, in onFrameEnd\n",
      "    self._onMessageEnd()\n",
      "  File \"/Users/vipultanwar/Documents/kite/kite/lib/python3.8/site-packages/autobahn/twisted/websocket.py\", line 316, in _onMessageEnd\n",
      "    self.onMessageEnd()\n",
      "  File \"/Users/vipultanwar/Documents/kite/kite/lib/python3.8/site-packages/autobahn/websocket/protocol.py\", line 627, in onMessageEnd\n",
      "    self._onMessage(payload, self.message_is_binary)\n",
      "  File \"/Users/vipultanwar/Documents/kite/kite/lib/python3.8/site-packages/autobahn/twisted/websocket.py\", line 319, in _onMessage\n",
      "    self.onMessage(payload, isBinary)\n",
      "  File \"/Users/vipultanwar/Documents/kite/kite/lib/python3.8/site-packages/kiteconnect/ticker.py\", line 71, in onMessage\n",
      "    self.factory.on_message(self, payload, is_binary)\n",
      "  File \"/Users/vipultanwar/Documents/kite/kite/lib/python3.8/site-packages/kiteconnect/ticker.py\", line 670, in _on_message\n",
      "    self.on_ticks(self, self._parse_binary(payload))\n",
      "  File \"<ipython-input-1-d616282242dc>\", line 12, in on_ticks\n",
      "    print_bidaskspread(ticks)\n",
      "  File \"<ipython-input-1-d616282242dc>\", line 32, in print_bidaskspread\n",
      "    bidqty = tick[1]['depth']['buy'][0]['quantity']\n",
      "builtins.IndexError: list index out of range\n",
      "\n",
      "ERROR:kiteconnect.ticker:Connection error: 1006 - connection was closed uncleanly (peer dropped the TCP connection without previous WebSocket closing handshake)\n",
      "ERROR:kiteconnect.ticker:Connection closed: 1006 - connection was closed uncleanly (peer dropped the TCP connection without previous WebSocket closing handshake)\n"
     ]
    }
   ],
   "source": [
    "import logging\n",
    "from kiteconnect import KiteTicker\n",
    "\n",
    "logging.basicConfig(level=logging.DEBUG)\n",
    "\n",
    "# Initialise\n",
    "kws = KiteTicker(\"kupxiilizwwmrs9m\", \"ka26ibCFccj3FthTAWB4GfAszyqifMrv\")\n",
    "tokens = [55735815, 55678727]\n",
    "def on_ticks(ws, ticks):\n",
    "    # Callback to receive ticks.\n",
    "    #logging.debug(\"Ticks: {}\".format(ticks))\n",
    "    print_bidaskspread(ticks)\n",
    "#     ws.close()\n",
    "    print(ticks)\n",
    "    \n",
    "def on_connect(ws, response):\n",
    "    # Callback on successful connect.\n",
    "    # Subscribe to a list of instrument_tokens (RELIANCE and ACC here).\n",
    "    ws.subscribe(tokens)\n",
    "\n",
    "    # Set RELIANCE to tick in `full` mode.\n",
    "    ws.set_mode(ws.MODE_FULL, tokens)\n",
    "\n",
    "def on_close(ws, code, reason):\n",
    "    # On connection close stop the main loop\n",
    "    # Reconnection will not happen after executing `ws.stop()`\n",
    "    ws.stop()\n",
    "\n",
    "def print_bidaskspread(tick):\n",
    "    \n",
    "    bidprc = tick[0]['depth']['buy'][0]['price']\n",
    "    bidqty = tick[1]['depth']['buy'][0]['quantity']\n",
    "\n",
    "    askprc = tick[1]['depth']['sell'][0]['price']\n",
    "    askqty = tick[1]['depth']['sell'][0]['quantity']\n",
    "    \n",
    "\n",
    "    \n",
    "    print(bidprc - askprc)\n",
    "    \n",
    "    \n",
    "# Assign the callbacksb.\n",
    "kws.on_ticks = on_ticks\n",
    "kws.on_connect = on_connect\n",
    "kws.on_close = on_close\n",
    "\n",
    "\n",
    "kws.connect()\n",
    "# Infinite loop on the main thread. Nothing after this will run.\n",
    "# You have to use the pre-defined callbacks to manage subscriptions.\n"
   ]
  },
  {
   "cell_type": "code",
   "execution_count": null,
   "metadata": {},
   "outputs": [],
   "source": [
    "kws.connect()"
   ]
  },
  {
   "cell_type": "code",
   "execution_count": null,
   "metadata": {},
   "outputs": [],
   "source": [
    "kws.on_ticks"
   ]
  },
  {
   "cell_type": "code",
   "execution_count": null,
   "metadata": {},
   "outputs": [],
   "source": [
    "import datetime"
   ]
  },
  {
   "cell_type": "code",
   "execution_count": null,
   "metadata": {},
   "outputs": [],
   "source": [
    "bidprc = x[1]['depth']['buy'][0]['price']\n",
    "bidqty = x[1]['depth']['buy'][0]['quantity']\n",
    "\n",
    "askprc = x[1]['depth']['sell'][0]['price']\n",
    "askqty = x[1]['depth']['sell'][0]['quantity']\n"
   ]
  },
  {
   "cell_type": "code",
   "execution_count": null,
   "metadata": {},
   "outputs": [],
   "source": [
    "from kiteconnect import KiteConnect\n",
    "\n",
    "kite = KiteConnect(api_key='kupxiilizwwmrs9m')\n",
    "kite.set_access_token('0M3mKrgM3YvnTEyOy3utvZaEhvMIG14X')\n"
   ]
  },
  {
   "cell_type": "code",
   "execution_count": null,
   "metadata": {},
   "outputs": [],
   "source": [
    "insts = kite.instruments(exchange='MCX')"
   ]
  },
  {
   "cell_type": "code",
   "execution_count": null,
   "metadata": {},
   "outputs": [],
   "source": [
    "import pandas as pd\n",
    "instruments = pd.DataFrame(insts)\n",
    "instruments.head()"
   ]
  },
  {
   "cell_type": "code",
   "execution_count": null,
   "metadata": {},
   "outputs": [],
   "source": [
    "import logging\n",
    "from kiteconnect import KiteTicker\n",
    "\n",
    "logging.basicConfig(level=logging.DEBUG)\n",
    "\n",
    "# Initialise\n",
    "kws = KiteTicker(\"kupxiilizwwmrs9m\", \"61RODh44SSKj7FJ86Zl2DeW3qdifjUAR\")"
   ]
  },
  {
   "cell_type": "code",
   "execution_count": 115,
   "metadata": {},
   "outputs": [
    {
     "name": "stdout",
     "output_type": "stream",
     "text": [
      "13\n"
     ]
    }
   ],
   "source": [
    "from datetime import datetime\n",
    "time = datetime.now()\n",
    "\n",
    "if((time.second == 0)):\n",
    "    print('change of minute observed')\n",
    "    \n",
    "    \n",
    "else:\n",
    "    print(time.second)\n",
    "    \n",
    "    \n"
   ]
  }
 ],
 "metadata": {
  "kernelspec": {
   "display_name": "Python 3",
   "language": "python",
   "name": "python3"
  },
  "language_info": {
   "codemirror_mode": {
    "name": "ipython",
    "version": 3
   },
   "file_extension": ".py",
   "mimetype": "text/x-python",
   "name": "python",
   "nbconvert_exporter": "python",
   "pygments_lexer": "ipython3",
   "version": "3.8.0"
  }
 },
 "nbformat": 4,
 "nbformat_minor": 4
}
